{
 "cells": [
  {
   "cell_type": "code",
   "execution_count": 158,
   "metadata": {},
   "outputs": [],
   "source": [
    "from selenium import webdriver\n",
    "from selenium.webdriver.common.keys import Keys\n",
    "from time import sleep\n",
    "from bs4 import BeautifulSoup\n",
    "import re\n",
    "import pandas as pd\n",
    "import numpy as np"
   ]
  },
  {
   "cell_type": "code",
   "execution_count": 233,
   "metadata": {},
   "outputs": [],
   "source": [
    "def recent():\n",
    "    # 최신순 정렬\n",
    "    driver.find_elements_by_css_selector(p)[2].click()\n",
    "    sleep(1)\n",
    "    driver.find_elements_by_css_selector(p2)[2].click()\n",
    "    sleep(1)\n",
    "def score_one():\n",
    "    # 별 1개\n",
    "    driver.find_elements_by_css_selector(p)[3].click()\n",
    "    sleep(1)\n",
    "    driver.find_elements_by_css_selector(p2)[5].click()\n",
    "    sleep(1)\n",
    "def score_five():\n",
    "    # 별 5개\n",
    "    driver.find_elements_by_css_selector(p)[3].click()\n",
    "    sleep(1)\n",
    "    driver.find_elements_by_css_selector(p2)[-1].click()\n",
    "    sleep(1)\n",
    "def parse(selector):\n",
    "    return BeautifulSoup(driver.page_source, 'lxml', from_encoding='utf-8').select(selector)\n",
    "def regex(pattern, text, group_num=0):\n",
    "    return re.search(pattern, text).group(group_num)\n",
    "def get_text():\n",
    "    path = \"div > div > div > div > div > div > div > div:nth-of-type(2) > div > div > div > div\"\n",
    "    path2 = \"div:nth-of-type(3) > span:nth-of-type(1) > div > div\"\n",
    "    pattern = re.compile(\"(\\d)개를\")\n",
    "    result = []\n",
    "    for el in parse(path):\n",
    "        e = el.select('span')[9:]\n",
    "        if not e:\n",
    "            continue\n",
    "        if not el.select_one(path2):\n",
    "            break\n",
    "        score = int(regex(pattern, el.select_one(path2)['aria-label'], 1))\n",
    "        if e[0].text == \"수정 내역 보기\":\n",
    "            if \"...전체 리뷰\" in e[4].text or \"전체 리뷰\" in e[4].text:\n",
    "                 result.append((score, e[5].text))\n",
    "            else: result.append((score, e[4].text))\n",
    "        else : result.append((score, e[3].text))\n",
    "    return result"
   ]
  },
  {
   "cell_type": "code",
   "execution_count": 234,
   "metadata": {},
   "outputs": [],
   "source": [
    "driver = webdriver.Chrome('chromedriver.exe')\n",
    "driver.implicitly_wait(3)"
   ]
  },
  {
   "cell_type": "code",
   "execution_count": 235,
   "metadata": {},
   "outputs": [],
   "source": [
    "url = \"https://play.google.com/store/apps/details?id=com.ncsoft.lineagem19&hl=ko&showAllReviews=true\"\n",
    "driver.get(url)\n",
    "sleep(1)"
   ]
  },
  {
   "cell_type": "code",
   "execution_count": 121,
   "metadata": {},
   "outputs": [],
   "source": [
    "p = \"div > c-wiz > div > div > div > div > div > div > div > div > c-wiz > div > div > div > div > div > span\"\n",
    "p2 = \"div > c-wiz > div > div > div > div > div > div > div > div > c-wiz > div > div > div > div\""
   ]
  },
  {
   "cell_type": "code",
   "execution_count": 236,
   "metadata": {},
   "outputs": [],
   "source": [
    "recent()"
   ]
  },
  {
   "cell_type": "code",
   "execution_count": 237,
   "metadata": {},
   "outputs": [],
   "source": [
    "score_one()"
   ]
  },
  {
   "cell_type": "code",
   "execution_count": 238,
   "metadata": {
    "scrolled": true
   },
   "outputs": [
    {
     "name": "stdout",
     "output_type": "stream",
     "text": [
      "1 번째 더보기\n",
      "2 번째 더보기\n",
      "3 번째 더보기\n",
      "4 번째 더보기\n",
      "5 번째 더보기\n",
      "6 번째 더보기\n",
      "7 번째 더보기\n",
      "8 번째 더보기\n",
      "9 번째 더보기\n",
      "10 번째 더보기\n",
      "11 번째 더보기\n",
      "12 번째 더보기\n",
      "13 번째 더보기\n",
      "14 번째 더보기\n",
      "15 번째 더보기\n",
      "16 번째 더보기\n",
      "17 번째 더보기\n",
      "18 번째 더보기\n",
      "19 번째 더보기\n",
      "20 번째 더보기\n",
      "21 번째 더보기\n",
      "22 번째 더보기\n",
      "23 번째 더보기\n",
      "24 번째 더보기\n",
      "25 번째 더보기\n",
      "26 번째 더보기\n",
      "27 번째 더보기\n",
      "28 번째 더보기\n",
      "29 번째 더보기\n",
      "30 번째 더보기\n",
      "31 번째 더보기\n",
      "32 번째 더보기\n",
      "33 번째 더보기\n",
      "34 번째 더보기\n",
      "35 번째 더보기\n",
      "36 번째 더보기\n",
      "37 번째 더보기\n",
      "38 번째 더보기\n",
      "39 번째 더보기\n",
      "40 번째 더보기\n",
      "41 번째 더보기\n",
      "42 번째 더보기\n",
      "43 번째 더보기\n",
      "44 번째 더보기\n",
      "45 번째 더보기\n",
      "46 번째 더보기\n",
      "47 번째 더보기\n",
      "48 번째 더보기\n",
      "49 번째 더보기\n",
      "50 번째 더보기\n"
     ]
    }
   ],
   "source": [
    "for i in range(50):\n",
    "    while len(driver.find_elements_by_class_name('RveJvd')) == 0:\n",
    "        driver.find_element_by_tag_name('body').send_keys(Keys.END)\n",
    "        sleep(1)\n",
    "        driver.find_element_by_tag_name('body').send_keys(Keys.PAGE_UP)\n",
    "        sleep(1)\n",
    "        driver.find_element_by_tag_name('body').send_keys(Keys.PAGE_UP)\n",
    "        sleep(1)\n",
    "    driver.find_element_by_class_name('RveJvd').click()\n",
    "    sleep(1)\n",
    "    print(i+1, \"번째 더보기\")"
   ]
  },
  {
   "cell_type": "code",
   "execution_count": 243,
   "metadata": {},
   "outputs": [
    {
     "name": "stderr",
     "output_type": "stream",
     "text": [
      "C:\\Users\\brill\\Anaconda3\\envs\\ml\\lib\\site-packages\\bs4\\__init__.py:146: UserWarning: You provided Unicode markup but also provided a value for from_encoding. Your from_encoding will be ignored.\n",
      "  warnings.warn(\"You provided Unicode markup but also provided a value for from_encoding. Your from_encoding will be ignored.\")\n"
     ]
    },
    {
     "data": {
      "text/html": [
       "<div>\n",
       "<style scoped>\n",
       "    .dataframe tbody tr th:only-of-type {\n",
       "        vertical-align: middle;\n",
       "    }\n",
       "\n",
       "    .dataframe tbody tr th {\n",
       "        vertical-align: top;\n",
       "    }\n",
       "\n",
       "    .dataframe thead th {\n",
       "        text-align: right;\n",
       "    }\n",
       "</style>\n",
       "<table border=\"1\" class=\"dataframe\">\n",
       "  <thead>\n",
       "    <tr style=\"text-align: right;\">\n",
       "      <th></th>\n",
       "      <th>risk</th>\n",
       "      <th>comment</th>\n",
       "    </tr>\n",
       "  </thead>\n",
       "  <tbody>\n",
       "    <tr>\n",
       "      <th>0</th>\n",
       "      <td>1</td>\n",
       "      <td>돈을 엄청 써도 또 돈을 써야하는 게임</td>\n",
       "    </tr>\n",
       "    <tr>\n",
       "      <th>1</th>\n",
       "      <td>1</td>\n",
       "      <td>리니지광땜에 택진이형알앗구요 노잼.. 별한개도아쉽다</td>\n",
       "    </tr>\n",
       "    <tr>\n",
       "      <th>2</th>\n",
       "      <td>1</td>\n",
       "      <td>라바섭은 왜 서버이전막아놓는거냐ㅡㅡ 이전풀꺼면 다풀어놓지 어디는풀리고어디는막아놓고 ...</td>\n",
       "    </tr>\n",
       "    <tr>\n",
       "      <th>3</th>\n",
       "      <td>1</td>\n",
       "      <td>과금안하면 발끗도 못미치는 게임 재미는 있다.. 맞는 재미</td>\n",
       "    </tr>\n",
       "    <tr>\n",
       "      <th>4</th>\n",
       "      <td>1</td>\n",
       "      <td>계정이 영구정지되었다는 통보를 받았습니다. 용옥을 11월18일날 핸폰결제로 55,0...</td>\n",
       "    </tr>\n",
       "  </tbody>\n",
       "</table>\n",
       "</div>"
      ],
      "text/plain": [
       "   risk                                            comment\n",
       "0     1                              돈을 엄청 써도 또 돈을 써야하는 게임\n",
       "1     1                       리니지광땜에 택진이형알앗구요 노잼.. 별한개도아쉽다\n",
       "2     1  라바섭은 왜 서버이전막아놓는거냐ㅡㅡ 이전풀꺼면 다풀어놓지 어디는풀리고어디는막아놓고 ...\n",
       "3     1                   과금안하면 발끗도 못미치는 게임 재미는 있다.. 맞는 재미\n",
       "4     1  계정이 영구정지되었다는 통보를 받았습니다. 용옥을 11월18일날 핸폰결제로 55,0..."
      ]
     },
     "execution_count": 243,
     "metadata": {},
     "output_type": "execute_result"
    }
   ],
   "source": [
    "output = pd.DataFrame(get_text(), columns=[\"risk\", \"comment\"])\n",
    "output.head()"
   ]
  },
  {
   "cell_type": "code",
   "execution_count": 245,
   "metadata": {},
   "outputs": [],
   "source": [
    "output.to_csv(\"neg_opinion.csv\", index=False)"
   ]
  },
  {
   "cell_type": "code",
   "execution_count": 244,
   "metadata": {},
   "outputs": [],
   "source": [
    "driver.close()"
   ]
  },
  {
   "cell_type": "code",
   "execution_count": 246,
   "metadata": {},
   "outputs": [],
   "source": [
    "driver = webdriver.Chrome('chromedriver.exe')\n",
    "driver.implicitly_wait(3)"
   ]
  },
  {
   "cell_type": "code",
   "execution_count": 247,
   "metadata": {},
   "outputs": [],
   "source": [
    "url = \"https://play.google.com/store/apps/details?id=com.ncsoft.lineagem19&hl=ko&showAllReviews=true\"\n",
    "driver.get(url)\n",
    "sleep(1)"
   ]
  },
  {
   "cell_type": "code",
   "execution_count": 248,
   "metadata": {},
   "outputs": [],
   "source": [
    "recent()"
   ]
  },
  {
   "cell_type": "code",
   "execution_count": 249,
   "metadata": {},
   "outputs": [],
   "source": [
    "score_five()"
   ]
  },
  {
   "cell_type": "code",
   "execution_count": 250,
   "metadata": {
    "scrolled": true
   },
   "outputs": [
    {
     "name": "stdout",
     "output_type": "stream",
     "text": [
      "1 번째 더보기\n",
      "2 번째 더보기\n",
      "3 번째 더보기\n",
      "4 번째 더보기\n",
      "5 번째 더보기\n",
      "6 번째 더보기\n",
      "7 번째 더보기\n",
      "8 번째 더보기\n",
      "9 번째 더보기\n",
      "10 번째 더보기\n",
      "11 번째 더보기\n",
      "12 번째 더보기\n",
      "13 번째 더보기\n",
      "14 번째 더보기\n",
      "15 번째 더보기\n",
      "16 번째 더보기\n",
      "17 번째 더보기\n",
      "18 번째 더보기\n",
      "19 번째 더보기\n",
      "20 번째 더보기\n",
      "21 번째 더보기\n",
      "22 번째 더보기\n",
      "23 번째 더보기\n",
      "24 번째 더보기\n",
      "25 번째 더보기\n",
      "26 번째 더보기\n",
      "27 번째 더보기\n",
      "28 번째 더보기\n",
      "29 번째 더보기\n",
      "30 번째 더보기\n",
      "31 번째 더보기\n",
      "32 번째 더보기\n",
      "33 번째 더보기\n",
      "34 번째 더보기\n",
      "35 번째 더보기\n",
      "36 번째 더보기\n",
      "37 번째 더보기\n",
      "38 번째 더보기\n",
      "39 번째 더보기\n",
      "40 번째 더보기\n",
      "41 번째 더보기\n",
      "42 번째 더보기\n",
      "43 번째 더보기\n",
      "44 번째 더보기\n",
      "45 번째 더보기\n",
      "46 번째 더보기\n",
      "47 번째 더보기\n",
      "48 번째 더보기\n",
      "49 번째 더보기\n",
      "50 번째 더보기\n"
     ]
    }
   ],
   "source": [
    "for i in range(50):\n",
    "    while len(driver.find_elements_by_class_name('RveJvd')) == 0:\n",
    "        driver.find_element_by_tag_name('body').send_keys(Keys.END)\n",
    "        sleep(1)\n",
    "        driver.find_element_by_tag_name('body').send_keys(Keys.PAGE_UP)\n",
    "        sleep(1)\n",
    "        driver.find_element_by_tag_name('body').send_keys(Keys.PAGE_UP)\n",
    "        sleep(1)\n",
    "    driver.find_element_by_class_name('RveJvd').click()\n",
    "    sleep(1)\n",
    "    print(i+1, \"번째 더보기\")"
   ]
  },
  {
   "cell_type": "code",
   "execution_count": 251,
   "metadata": {
    "scrolled": true
   },
   "outputs": [
    {
     "name": "stderr",
     "output_type": "stream",
     "text": [
      "C:\\Users\\brill\\Anaconda3\\envs\\ml\\lib\\site-packages\\bs4\\__init__.py:146: UserWarning: You provided Unicode markup but also provided a value for from_encoding. Your from_encoding will be ignored.\n",
      "  warnings.warn(\"You provided Unicode markup but also provided a value for from_encoding. Your from_encoding will be ignored.\")\n"
     ]
    },
    {
     "data": {
      "text/html": [
       "<div>\n",
       "<style scoped>\n",
       "    .dataframe tbody tr th:only-of-type {\n",
       "        vertical-align: middle;\n",
       "    }\n",
       "\n",
       "    .dataframe tbody tr th {\n",
       "        vertical-align: top;\n",
       "    }\n",
       "\n",
       "    .dataframe thead th {\n",
       "        text-align: right;\n",
       "    }\n",
       "</style>\n",
       "<table border=\"1\" class=\"dataframe\">\n",
       "  <thead>\n",
       "    <tr style=\"text-align: right;\">\n",
       "      <th></th>\n",
       "      <th>risk</th>\n",
       "      <th>comment</th>\n",
       "    </tr>\n",
       "  </thead>\n",
       "  <tbody>\n",
       "    <tr>\n",
       "      <th>0</th>\n",
       "      <td>0</td>\n",
       "      <td>최상급 변신이벤트 한번만 더 해주세요 진짜 분하다.</td>\n",
       "    </tr>\n",
       "    <tr>\n",
       "      <th>1</th>\n",
       "      <td>0</td>\n",
       "      <td>난 잼</td>\n",
       "    </tr>\n",
       "    <tr>\n",
       "      <th>2</th>\n",
       "      <td>0</td>\n",
       "      <td>재밋음</td>\n",
       "    </tr>\n",
       "    <tr>\n",
       "      <th>3</th>\n",
       "      <td>0</td>\n",
       "      <td>복귀 유자인데...신성기사로 이전해서 할수있께 패키지 하나 만들어주세요 기간 지나가...</td>\n",
       "    </tr>\n",
       "    <tr>\n",
       "      <th>4</th>\n",
       "      <td>0</td>\n",
       "      <td>ㅓ우텉ㅌ</td>\n",
       "    </tr>\n",
       "  </tbody>\n",
       "</table>\n",
       "</div>"
      ],
      "text/plain": [
       "   risk                                            comment\n",
       "0     0                       최상급 변신이벤트 한번만 더 해주세요 진짜 분하다.\n",
       "1     0                                                난 잼\n",
       "2     0                                                재밋음\n",
       "3     0  복귀 유자인데...신성기사로 이전해서 할수있께 패키지 하나 만들어주세요 기간 지나가...\n",
       "4     0                                               ㅓ우텉ㅌ"
      ]
     },
     "execution_count": 251,
     "metadata": {},
     "output_type": "execute_result"
    }
   ],
   "source": [
    "output = pd.DataFrame(get_text(), columns=[\"risk\", \"comment\"])\n",
    "output['risk'] = 0\n",
    "output.head()"
   ]
  },
  {
   "cell_type": "code",
   "execution_count": 252,
   "metadata": {},
   "outputs": [],
   "source": [
    "output.to_csv(\"pos_opinion.csv\", index=False)"
   ]
  },
  {
   "cell_type": "code",
   "execution_count": 254,
   "metadata": {},
   "outputs": [],
   "source": [
    "driver.close()"
   ]
  }
 ],
 "metadata": {
  "kernelspec": {
   "display_name": "Python 3",
   "language": "python",
   "name": "python3"
  },
  "language_info": {
   "codemirror_mode": {
    "name": "ipython",
    "version": 3
   },
   "file_extension": ".py",
   "mimetype": "text/x-python",
   "name": "python",
   "nbconvert_exporter": "python",
   "pygments_lexer": "ipython3",
   "version": "3.6.9"
  }
 },
 "nbformat": 4,
 "nbformat_minor": 2
}
