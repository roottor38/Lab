{
 "cells": [
  {
   "cell_type": "markdown",
   "metadata": {},
   "source": [
    "pip install -U textblob nltk"
   ]
  },
  {
   "cell_type": "code",
   "execution_count": 1,
   "metadata": {},
   "outputs": [],
   "source": [
    "import pandas as pd\n",
    "import numpy as np"
   ]
  },
  {
   "cell_type": "code",
   "execution_count": 2,
   "metadata": {},
   "outputs": [],
   "source": [
    "import json\n",
    "fname = 'processing.json'\n",
    "with open(fname, encoding=\"utf-8-sig\") as f:\n",
    "    processing = json.load(f)"
   ]
  },
  {
   "cell_type": "code",
   "execution_count": 3,
   "metadata": {},
   "outputs": [
    {
     "name": "stdout",
     "output_type": "stream",
     "text": [
      "2882293\n"
     ]
    }
   ],
   "source": [
    "import nltk\n",
    "\n",
    "tokens = [t for d in processing for t in d[0]]\n",
    "print(len(tokens))\n",
    "\n",
    "text = nltk.Text(tokens, name='NMSC')\n",
    "\n",
    "selected_words = [f[0] for f in text.vocab().most_common(500)]"
   ]
  },
  {
   "cell_type": "code",
   "execution_count": 14,
   "metadata": {},
   "outputs": [
    {
     "data": {
      "text/plain": [
       "[('팬/Noun', 798), ('기다/Verb', 796), ('스럽다/Adjective', 795), ('준/Noun', 794)]"
      ]
     },
     "execution_count": 14,
     "metadata": {},
     "output_type": "execute_result"
    }
   ],
   "source": [
    "text.vocab().most_common(500)[-5:-1]"
   ]
  },
  {
   "cell_type": "code",
   "execution_count": 4,
   "metadata": {},
   "outputs": [
    {
     "data": {
      "text/plain": [
       "'./Punctuation'"
      ]
     },
     "execution_count": 4,
     "metadata": {},
     "output_type": "execute_result"
    }
   ],
   "source": [
    "selected_words[0]"
   ]
  },
  {
   "cell_type": "code",
   "execution_count": 5,
   "metadata": {},
   "outputs": [
    {
     "data": {
      "text/plain": [
       "[['어리다/Verb',\n",
       "  '때/Noun',\n",
       "  '보고/Noun',\n",
       "  '지금/Noun',\n",
       "  '다시/Noun',\n",
       "  '보다/Verb',\n",
       "  '재밌다/Adjective',\n",
       "  'ㅋㅋ/KoreanParticle'],\n",
       " '1']"
      ]
     },
     "execution_count": 5,
     "metadata": {},
     "output_type": "execute_result"
    }
   ],
   "source": [
    "processing[0]"
   ]
  },
  {
   "cell_type": "code",
   "execution_count": 6,
   "metadata": {},
   "outputs": [],
   "source": [
    "def term_frequency(doc):\n",
    "    return [word for words in doc for word in words if word in selected_words]"
   ]
  },
  {
   "cell_type": "code",
   "execution_count": 7,
   "metadata": {},
   "outputs": [
    {
     "data": {
      "text/plain": [
       "['어리다/Verb',\n",
       " '때/Noun',\n",
       " '보고/Noun',\n",
       " '지금/Noun',\n",
       " '다시/Noun',\n",
       " '보다/Verb',\n",
       " '재밌다/Adjective',\n",
       " 'ㅋㅋ/KoreanParticle']"
      ]
     },
     "execution_count": 7,
     "metadata": {},
     "output_type": "execute_result"
    }
   ],
   "source": [
    "term_frequency(processing[0])"
   ]
  },
  {
   "cell_type": "code",
   "execution_count": 8,
   "metadata": {},
   "outputs": [],
   "source": [
    "data = [(term_frequency(row), row[1]) for row in processing]"
   ]
  },
  {
   "cell_type": "code",
   "execution_count": 9,
   "metadata": {},
   "outputs": [],
   "source": [
    "from sklearn.model_selection import train_test_split\n",
    "train_data, test_data = train_test_split(data)"
   ]
  },
  {
   "cell_type": "code",
   "execution_count": 10,
   "metadata": {},
   "outputs": [],
   "source": [
    "from textblob.classifiers import NaiveBayesClassifier"
   ]
  },
  {
   "cell_type": "code",
   "execution_count": 11,
   "metadata": {
    "scrolled": false
   },
   "outputs": [],
   "source": [
    "cl = NaiveBayesClassifier(train_data)"
   ]
  },
  {
   "cell_type": "code",
   "execution_count": 12,
   "metadata": {},
   "outputs": [
    {
     "name": "stdout",
     "output_type": "stream",
     "text": [
      "Most Informative Features\n",
      "       contains(최악/Noun) = True                0 : 1      =     78.7 : 1.0\n",
      "     contains(♥/Foreign) = True                1 : 0      =     72.5 : 1.0\n",
      "       contains(노잼/Noun) = True                0 : 1      =     36.8 : 1.0\n",
      "   contains(이딴/Modifier) = True                0 : 1      =     28.5 : 1.0\n",
      "      contains(최고다/Noun) = True                1 : 0      =     20.6 : 1.0\n",
      "      contains(차라리/Noun) = True                0 : 1      =     17.3 : 1.0\n",
      "       contains(졸작/Noun) = True                0 : 1      =     16.7 : 1.0\n",
      "      contains(쓰레기/Noun) = True                0 : 1      =     16.6 : 1.0\n",
      "       contains(여운/Noun) = True                1 : 0      =     15.8 : 1.0\n",
      "contains(따뜻하다/Adjective) = True                1 : 0      =     14.6 : 1.0\n"
     ]
    }
   ],
   "source": [
    "cl.show_informative_features()"
   ]
  },
  {
   "cell_type": "code",
   "execution_count": 13,
   "metadata": {},
   "outputs": [
    {
     "data": {
      "text/plain": [
       "0.77582"
      ]
     },
     "execution_count": 13,
     "metadata": {},
     "output_type": "execute_result"
    }
   ],
   "source": [
    "cl.accuracy(test_data)"
   ]
  }
 ],
 "metadata": {
  "kernelspec": {
   "display_name": "Python 3",
   "language": "python",
   "name": "python3"
  },
  "language_info": {
   "codemirror_mode": {
    "name": "ipython",
    "version": 3
   },
   "file_extension": ".py",
   "mimetype": "text/x-python",
   "name": "python",
   "nbconvert_exporter": "python",
   "pygments_lexer": "ipython3",
   "version": "3.6.9"
  }
 },
 "nbformat": 4,
 "nbformat_minor": 2
}
